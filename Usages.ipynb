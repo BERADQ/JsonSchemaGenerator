{
 "cells": [
  {
   "metadata": {},
   "cell_type": "markdown",
   "source": "# Usages of the library\n"
  },
  {
   "metadata": {},
   "cell_type": "markdown",
   "source": "## Example Classes"
  },
  {
   "metadata": {
    "ExecuteTime": {
     "end_time": "2025-01-07T05:12:15.264071200Z",
     "start_time": "2025-01-07T05:12:14.915929700Z"
    }
   },
   "cell_type": "code",
   "source": [
    "import kotlinx.serialization.Serializable\n",
    "import io.github.stream29.jsonschemagenerator.Description\n",
    "\n",
    "@Serializable\n",
    "@Description(\"This is a test data class\")\n",
    "data class TestDataClass(\n",
    "    val name: String,\n",
    "    val owner: String = \"\",\n",
    "    val nested: NestedDataClass,\n",
    ")\n",
    "\n",
    "@Serializable\n",
    "data class NestedDataClass(\n",
    "    val nestedName: String = \"\",\n",
    "    val nestedOwner: String,\n",
    ")"
   ],
   "outputs": [],
   "execution_count": 9
  },
  {
   "metadata": {},
   "cell_type": "markdown",
   "source": [
    "## Example Usage\n",
    "\n",
    "Enclosed structure and annotations on the properties are well supported."
   ]
  },
  {
   "metadata": {
    "ExecuteTime": {
     "end_time": "2025-01-07T05:12:15.412348300Z",
     "start_time": "2025-01-07T05:12:15.275817800Z"
    }
   },
   "cell_type": "code",
   "source": [
    "val schema = SchemaGenerator.from<TestDataClass>()\n",
    "val json = Json { prettyPrint = true }\n",
    "json.encodeToString(schema)"
   ],
   "outputs": [
    {
     "data": {
      "text/plain": [
       "{\n",
       "    \"type\": \"object\",\n",
       "    \"description\": \"This is a test data class\",\n",
       "    \"properties\": {\n",
       "        \"name\": {\n",
       "            \"type\": \"string\"\n",
       "        },\n",
       "        \"owner\": {\n",
       "            \"type\": \"string\"\n",
       "        },\n",
       "        \"nested\": {\n",
       "            \"type\": \"object\",\n",
       "            \"properties\": {\n",
       "                \"nestedName\": {\n",
       "                    \"type\": \"string\"\n",
       "                },\n",
       "                \"nestedOwner\": {\n",
       "                    \"type\": \"string\"\n",
       "                }\n",
       "            },\n",
       "            \"required\": [\n",
       "                \"nestedOwner\"\n",
       "            ]\n",
       "        }\n",
       "    },\n",
       "    \"required\": [\n",
       "        \"name\",\n",
       "        \"nested\"\n",
       "    ]\n",
       "}"
      ]
     },
     "execution_count": 10,
     "metadata": {},
     "output_type": "execute_result"
    }
   ],
   "execution_count": 10
  },
  {
   "metadata": {},
   "cell_type": "markdown",
   "source": [
    "You can use the annotations from [Annotations.kt](json-schema-generator/src/commonMain/kotlin/io/github/stream29/jsonschemagenerator/Annotations.kt) to add constraint on schema.\n",
    "\n",
    "You can use the `default` instance and call `from` to easily generate a default-styled schema for given type.\n",
    "\n",
    "You can also create your own `SchemaGenerator` instance and call `schemaOf`."
   ]
  },
  {
   "metadata": {},
   "cell_type": "markdown",
   "source": [
    "## Customized Schema Generation\n",
    "\n",
    "You can customize the schema generation by providing a custom schema instruction for certain type.\n",
    "\n",
    "For example, you want to put the `description` field in front of the `type` field."
   ]
  },
  {
   "metadata": {
    "ExecuteTime": {
     "end_time": "2025-01-07T05:12:15.567422500Z",
     "start_time": "2025-01-07T05:12:15.422610600Z"
    }
   },
   "cell_type": "code",
   "source": [
    "import io.github.stream29.jsonschemagenerator.schemaOf\n",
    "import kotlinx.serialization.json.buildJsonObject\n",
    "\n",
    "val customizedSchemaGenerator = SchemaGenerator(\n",
    "    encodeClass = {\n",
    "        buildJsonObject {\n",
    "            putDescription()\n",
    "            putComment()\n",
    "            putTitle()\n",
    "            putType()\n",
    "            putProperties()\n",
    "            putRequired()\n",
    "        }\n",
    "    }\n",
    ")\n",
    "\n",
    "val schema = customizedSchemaGenerator.schemaOf<TestDataClass>()\n",
    "json.encodeToString(schema)"
   ],
   "outputs": [
    {
     "data": {
      "text/plain": [
       "{\n",
       "    \"description\": \"This is a test data class\",\n",
       "    \"type\": \"object\",\n",
       "    \"properties\": {\n",
       "        \"name\": {\n",
       "            \"type\": \"string\"\n",
       "        },\n",
       "        \"owner\": {\n",
       "            \"type\": \"string\"\n",
       "        },\n",
       "        \"nested\": {\n",
       "            \"type\": \"object\",\n",
       "            \"properties\": {\n",
       "                \"nestedName\": {\n",
       "                    \"type\": \"string\"\n",
       "                },\n",
       "                \"nestedOwner\": {\n",
       "                    \"type\": \"string\"\n",
       "                }\n",
       "            },\n",
       "            \"required\": [\n",
       "                \"nestedOwner\"\n",
       "            ]\n",
       "        }\n",
       "    },\n",
       "    \"required\": [\n",
       "        \"name\",\n",
       "        \"nested\"\n",
       "    ]\n",
       "}"
      ]
     },
     "execution_count": 11,
     "metadata": {},
     "output_type": "execute_result"
    }
   ],
   "execution_count": 11
  },
  {
   "metadata": {},
   "cell_type": "markdown",
   "source": "Conventions for customizing schema can be found in [SchemaBuildingContext.kt](json-schema-generator/src/commonMain/kotlin/io/github/stream29/jsonschemagenerator/SchemaBuildingContext.kt)."
  }
 ],
 "metadata": {
  "kernelspec": {
   "display_name": "Kotlin",
   "language": "kotlin",
   "name": "kotlin"
  },
  "language_info": {
   "name": "kotlin",
   "version": "1.9.23",
   "mimetype": "text/x-kotlin",
   "file_extension": ".kt",
   "pygments_lexer": "kotlin",
   "codemirror_mode": "text/x-kotlin",
   "nbconvert_exporter": ""
  },
  "ktnbPluginMetadata": {
   "projectDependencies": [
    "JsonSchemaGenerator.json-schema-generator.jvmTest"
   ],
   "projectLibraries": false
  }
 },
 "nbformat": 4,
 "nbformat_minor": 0
}
